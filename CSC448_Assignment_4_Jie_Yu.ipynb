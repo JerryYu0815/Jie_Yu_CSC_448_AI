{
 "cells": [
  {
   "cell_type": "markdown",
   "metadata": {},
   "source": [
    "<a href=\"https://colab.research.google.com/github/JerryYu0815/Jie_Yu_CSC_448_AI/blob/main/CSC448_Assignment_4_Jie_Yu.ipynb\" target=\"_parent\"><img src=\"https://colab.research.google.com/assets/colab-badge.svg\" alt=\"Open In Colab\"/></a>"
   ]
  },
  {
   "cell_type": "code",
   "execution_count": 1006,
   "metadata": {
    "colab": {
     "base_uri": "https://localhost:8080/",
     "height": 647
    },
    "id": "S8PKiVJaL_AW",
    "outputId": "23c2a4cd-0c53-4a1c-c454-7ed87e392a8c"
   },
   "outputs": [],
   "source": [
    "# Imports and pip installations (if needed)\n",
    "import numpy as np\n",
    "import pandas as pd\n",
    "from sklearn import neighbors, datasets, svm\n",
    "import matplotlib.pyplot as plt\n",
    "from sklearn.datasets import load_iris\n",
    "from sklearn.model_selection import train_test_split\n",
    "from sklearn.model_selection import cross_val_score\n",
    "from sklearn.linear_model import LogisticRegression\n",
    "from sklearn.neural_network import MLPClassifier\n",
    "from sklearn.neighbors import KNeighborsClassifier\n"
   ]
  },
  {
   "cell_type": "markdown",
   "metadata": {
    "id": "A05Q5B0_NUX9"
   },
   "source": [
    "# Part 1: Load the dataset"
   ]
  },
  {
   "cell_type": "code",
   "execution_count": 1007,
   "metadata": {},
   "outputs": [
    {
     "name": "stdout",
     "output_type": "stream",
     "text": [
      "   sepal length (cm)  sepal width (cm)  petal length (cm)  petal width (cm)\n",
      "0                5.1               3.5                1.4               0.2\n",
      "0                4.9               3.0                1.4               0.2\n",
      "0                4.7               3.2                1.3               0.2\n",
      "0                4.6               3.1                1.5               0.2\n",
      "0                5.0               3.6                1.4               0.2\n",
      "0                5.4               3.9                1.7               0.4\n",
      "0                4.6               3.4                1.4               0.3\n",
      "0                5.0               3.4                1.5               0.2\n",
      "0                4.4               2.9                1.4               0.2\n",
      "0                4.9               3.1                1.5               0.1\n",
      "0                5.4               3.7                1.5               0.2\n",
      "0                4.8               3.4                1.6               0.2\n",
      "0                4.8               3.0                1.4               0.1\n",
      "0                4.3               3.0                1.1               0.1\n",
      "0                5.8               4.0                1.2               0.2\n"
     ]
    }
   ],
   "source": [
    "# Load the dataset (load remotely, not locally)\n",
    "iris = datasets.load_iris()\n",
    "# Output the first 15 rows of the data\n",
    "df = pd.DataFrame(iris.data, iris.target, columns=iris.feature_names)\n",
    "print(df.head(15))"
   ]
  },
  {
   "cell_type": "code",
   "execution_count": 1008,
   "metadata": {},
   "outputs": [
    {
     "name": "stdout",
     "output_type": "stream",
     "text": [
      "\n",
      "Table information Summary:\n",
      "\n",
      "The table description:\n",
      " .. _iris_dataset:\n",
      "\n",
      "Iris plants dataset\n",
      "--------------------\n",
      "\n",
      "**Data Set Characteristics:**\n",
      "\n",
      "    :Number of Instances: 150 (50 in each of three classes)\n",
      "    :Number of Attributes: 4 numeric, predictive attributes and the class\n",
      "    :Attribute Information:\n",
      "        - sepal length in cm\n",
      "        - sepal width in cm\n",
      "        - petal length in cm\n",
      "        - petal width in cm\n",
      "        - class:\n",
      "                - Iris-Setosa\n",
      "                - Iris-Versicolour\n",
      "                - Iris-Virginica\n",
      "                \n",
      "    :Summary Statistics:\n",
      "\n",
      "    ============== ==== ==== ======= ===== ====================\n",
      "                    Min  Max   Mean    SD   Class Correlation\n",
      "    ============== ==== ==== ======= ===== ====================\n",
      "    sepal length:   4.3  7.9   5.84   0.83    0.7826\n",
      "    sepal width:    2.0  4.4   3.05   0.43   -0.4194\n",
      "    petal length:   1.0  6.9   3.76   1.76    0.9490  (high!)\n",
      "    petal width:    0.1  2.5   1.20   0.76    0.9565  (high!)\n",
      "    ============== ==== ==== ======= ===== ====================\n",
      "\n",
      "    :Missing Attribute Values: None\n",
      "    :Class Distribution: 33.3% for each of 3 classes.\n",
      "    :Creator: R.A. Fisher\n",
      "    :Donor: Michael Marshall (MARSHALL%PLU@io.arc.nasa.gov)\n",
      "    :Date: July, 1988\n",
      "\n",
      "The famous Iris database, first used by Sir R.A. Fisher. The dataset is taken\n",
      "from Fisher's paper. Note that it's the same as in R, but not as in the UCI\n",
      "Machine Learning Repository, which has two wrong data points.\n",
      "\n",
      "This is perhaps the best known database to be found in the\n",
      "pattern recognition literature.  Fisher's paper is a classic in the field and\n",
      "is referenced frequently to this day.  (See Duda & Hart, for example.)  The\n",
      "data set contains 3 classes of 50 instances each, where each class refers to a\n",
      "type of iris plant.  One class is linearly separable from the other 2; the\n",
      "latter are NOT linearly separable from each other.\n",
      "\n",
      ".. topic:: References\n",
      "\n",
      "   - Fisher, R.A. \"The use of multiple measurements in taxonomic problems\"\n",
      "     Annual Eugenics, 7, Part II, 179-188 (1936); also in \"Contributions to\n",
      "     Mathematical Statistics\" (John Wiley, NY, 1950).\n",
      "   - Duda, R.O., & Hart, P.E. (1973) Pattern Classification and Scene Analysis.\n",
      "     (Q327.D83) John Wiley & Sons.  ISBN 0-471-22361-1.  See page 218.\n",
      "   - Dasarathy, B.V. (1980) \"Nosing Around the Neighborhood: A New System\n",
      "     Structure and Classification Rule for Recognition in Partially Exposed\n",
      "     Environments\".  IEEE Transactions on Pattern Analysis and Machine\n",
      "     Intelligence, Vol. PAMI-2, No. 1, 67-71.\n",
      "   - Gates, G.W. (1972) \"The Reduced Nearest Neighbor Rule\".  IEEE Transactions\n",
      "     on Information Theory, May 1972, 431-433.\n",
      "   - See also: 1988 MLC Proceedings, 54-64.  Cheeseman et al\"s AUTOCLASS II\n",
      "     conceptual clustering system finds 3 classes in the data.\n",
      "   - Many, many more ...\n"
     ]
    }
   ],
   "source": [
    "# Display a summary of the table information (number of datapoints, etc.)\n",
    "print('\\nTable information Summary:')\n",
    "print('\\nThe table description:\\n',iris.DESCR)"
   ]
  },
  {
   "cell_type": "markdown",
   "metadata": {
    "id": "wRMtsJKBaxWu"
   },
   "source": [
    "## About the dataset\n",
    "Explain what the data is in your own words. What are your features and labels? What is the mapping of your labels to the actual classes?\n",
    "### The iris datasets contains 3 target class of flowers - setosa, versicolor, and virginica. Each target has 4 features - sepal length (cm), sepal width (cm), petal length (cm), petal width (cm). \n",
    "### Features -  sepal length (cm), sepal width (cm), petal length (cm), petal width (cm).\n",
    "### Labels   -  0 for setosa, 1 for versicolor, and 2 for virginica."
   ]
  },
  {
   "cell_type": "markdown",
   "metadata": {
    "id": "DhKaIrZKNaHg"
   },
   "source": [
    "# Part 2: Split the dataset into train and test"
   ]
  },
  {
   "cell_type": "code",
   "execution_count": 1009,
   "metadata": {
    "colab": {
     "base_uri": "https://localhost:8080/"
    },
    "id": "OrgogB62NcOi",
    "outputId": "7bbfb1ea-88ed-4944-ab94-48696b9a71df"
   },
   "outputs": [
    {
     "name": "stdout",
     "output_type": "stream",
     "text": [
      "Length of each set is:\n",
      "X_train:  135\n",
      "X_test : 15\n",
      "y_train:  135\n",
      "y_test:  15\n"
     ]
    }
   ],
   "source": [
    "# Take the dataset and split it into our features (X) and label (y)\n",
    "X,y = load_iris(return_X_y = True)\n",
    "# Use sklearn to split the features and labels into a training/test set. (90% train, 10% test)\n",
    "X_train, X_test, y_train, y_test = train_test_split(X, y, test_size=0.1, random_state=2)\n",
    "print('Length of each set is:')\n",
    "print('X_train: ',len(X_train))\n",
    "print('X_test :',len(X_test))\n",
    "print('y_train: ',len(y_train))\n",
    "print('y_test: ',len(y_test))"
   ]
  },
  {
   "cell_type": "markdown",
   "metadata": {
    "id": "hblF-ei9Ncia"
   },
   "source": [
    "# Part 3: Logistic Regression"
   ]
  },
  {
   "cell_type": "code",
   "execution_count": 1010,
   "metadata": {
    "colab": {
     "base_uri": "https://localhost:8080/"
    },
    "id": "IhFhEN03Nf7o",
    "outputId": "15a94661-020b-4520-b5f3-c34fdfb042f2"
   },
   "outputs": [
    {
     "name": "stdout",
     "output_type": "stream",
     "text": [
      "First row in X_test[0]: [4.6 3.4 1.4 0.3]\n",
      "First row in y_test[0]: 0\n",
      "The predicted result for X_test[0]=  [0]\n",
      "The actual reuslt y_test[0]=  0\n",
      "\n",
      "For X_test[0], the probabilities for each possible class[0 1 2] are:\n",
      "[[9.83462916e-01 1.65370402e-02 4.36997045e-08]]\n",
      "\n",
      "score is 0.970 ,which means that the probability for our model to make correct prediction is 97.04%\n",
      "\n",
      "coef =  [[-0.39122448  0.93904954 -2.43765333 -1.02704598]\n",
      " [ 0.53482607 -0.39022414 -0.18049269 -0.97676208]\n",
      " [-0.14360159 -0.5488254   2.61814602  2.00380806]]\n",
      "intercept=  [  9.3326014    2.33171215 -11.66431355]\n"
     ]
    }
   ],
   "source": [
    "# i. Use sklearn to train a LogisticRegression model on the training set\n",
    "clf = LogisticRegression(random_state=1).fit(X_train, y_train)\n",
    "\n",
    "# ii. For a sample datapoint, predict the probabilities for each possible class\n",
    "print('First row in X_test[0]:', X_test[0])\n",
    "print('First row in y_test[0]:', y_test[0])\n",
    "pred = clf.predict(np.array([X_test[0]]))\n",
    "print('The predicted result for X_test[0]= ',pred)\n",
    "print('The actual reuslt y_test[0]= ',y_test[0])\n",
    "\n",
    "print('\\nFor X_test[0], the probabilities for each possible class[0 1 2] are:')\n",
    "print(clf.predict_proba(X_test[:1, :]))\n",
    "\n",
    "# iii. Report on the score for Logistic regression model, what does the score measure?\n",
    "score = clf.score(X_train, y_train)\n",
    "print('\\nscore is %.3f'%score,',which means that the probability for our model to make correct prediction is %.2f'%(score*100)+'%') \n",
    "\n",
    "# iv. Extract the coefficents and intercepts for the boundary line(s)\n",
    "coef = clf.coef_\n",
    "intercept = clf.intercept_\n",
    "print('\\ncoef = ', coef)\n",
    "print('intercept= ', intercept)\n"
   ]
  },
  {
   "cell_type": "markdown",
   "metadata": {},
   "source": [
    "## Score is 0.97 ,which means that the probability for our model to make correct prediction is 97%"
   ]
  },
  {
   "cell_type": "markdown",
   "metadata": {
    "id": "BDUpXQN4Nilk"
   },
   "source": [
    "# Part 4: Support Vector Machine"
   ]
  },
  {
   "cell_type": "code",
   "execution_count": 1011,
   "metadata": {
    "colab": {
     "base_uri": "https://localhost:8080/"
    },
    "id": "U__zukpdNqiQ",
    "outputId": "5cd81a50-9137-4f36-842e-0687e9bc7c45"
   },
   "outputs": [
    {
     "name": "stdout",
     "output_type": "stream",
     "text": [
      "X_test[0]: [4.6 3.4 1.4 0.3]\n",
      "y_test[0]: 0\n",
      "The predicted result for X_test[0]=  [0]\n",
      "\n",
      "For X_test[0], the probabilities for each possible class[0 1 2] are:\n",
      "[[0.96445484 0.0234517  0.01209346]]\n",
      "\n",
      "score is 0.9926 ,which means that the probability for our model to make correct prediction is 99.26%\n"
     ]
    }
   ],
   "source": [
    "# i. Use sklearn to train a Support Vector Classifier on the training set\n",
    "clf = svm.SVC(kernel = 'linear',gamma= 'auto',probability=True)\n",
    "clf.fit(X_train, y_train)\n",
    "# ii. For a sample datapoint, predict the probabilities for each possible class\n",
    "print('X_test[0]:', X_test[0])\n",
    "print('y_test[0]:', y_test[0])\n",
    "pred = clf.predict(np.array([X_test[0]]))\n",
    "print('The predicted result for X_test[0]= ',pred)\n",
    "print('\\nFor X_test[0], the probabilities for each possible class[0 1 2] are:')\n",
    "print(clf.predict_proba(X_test[:1, :]))\n",
    "\n",
    "# iii. Report on the score for the SVM, what does the score measure?\n",
    "score = clf.score(X_train, y_train)\n",
    "print('\\nscore is %.4f'%score,',which means that the probability for our model to make correct prediction is %.2f'%(score*100)+'%') "
   ]
  },
  {
   "cell_type": "markdown",
   "metadata": {},
   "source": [
    "## The prediction result for X_test[0] = 0 and the the actual reuslt y_test[0] = 0. For the probablities of each possible class, we can see that the first class(0) has highest probability which is 0.958 which means that the prediction is accurate.\n",
    "## Score is 0.963 ,which means that the probability for our model to make correct prediction is 96.3%"
   ]
  },
  {
   "cell_type": "markdown",
   "metadata": {
    "id": "ULoL7mMBNrlS"
   },
   "source": [
    "# Part 5: Neural Network"
   ]
  },
  {
   "cell_type": "code",
   "execution_count": 1012,
   "metadata": {
    "colab": {
     "base_uri": "https://localhost:8080/"
    },
    "id": "CKKmODVrN9lQ",
    "outputId": "dced24f7-c6bd-45fb-c68f-87548e9228dc"
   },
   "outputs": [
    {
     "name": "stdout",
     "output_type": "stream",
     "text": [
      "X_test[0]: [4.6 3.4 1.4 0.3]\n",
      "y_test[0]: 0\n",
      "The predicted result for X_test[0]=  [0]\n",
      "\n",
      "For X_test[0], the probabilities for each possible class[0 1 2] are:\n",
      "[[1.00000000e+000 5.26761204e-054 7.22758979e-158]]\n",
      "\n",
      "Option: lbfgs - converge faster and perform better for small datasets\n",
      "score =  0.9925925925925926\n",
      "Option: sgd - perform well generally\n",
      "score =  0.9851851851851852\n",
      "Option: adam - works pretty well on relatively large datasets\n",
      "score =  0.9777777777777777\n"
     ]
    }
   ],
   "source": [
    "# i. Use sklearn to train a Neural Network (MLP Classifier) on the training set\n",
    "clf = MLPClassifier(solver='lbfgs',hidden_layer_sizes=(3,3), alpha=1e-5, random_state=1).fit(X_train,y_train)\n",
    "\n",
    "# ii. For a sample datapoint, predict the probabilities for each possible class\n",
    "\n",
    "print('X_test[0]:', X_test[0])\n",
    "print('y_test[0]:', y_test[0])\n",
    "pred = clf.predict(np.array([X_test[0]]))\n",
    "print('The predicted result for X_test[0]= ',pred)\n",
    "\n",
    "print('\\nFor X_test[0], the probabilities for each possible class[0 1 2] are:')\n",
    "print(clf.predict_proba(X_test[:1, :]))\n",
    "# iii. Report on the score for the Neural Network, what does the score measure?\n",
    "score = clf.score(X_train, y_train)\n",
    "print('\\nOption: lbfgs - converge faster and perform better for small datasets')\n",
    "print('score = ', score) \n",
    "\n",
    "\n",
    "# iv: Experiment with different options for the neural network, report on your best configuration (the highest score I was able to achieve was 0.8666)\n",
    "clf = MLPClassifier(solver='sgd',hidden_layer_sizes=(3,3),alpha=1e-5,random_state=1,max_iter = 3000).fit(X_train,y_train)\n",
    "\n",
    "score = clf.score(X_train, y_train)\n",
    "print('Option: sgd - perform well generally')\n",
    "print('score = ', score)\n",
    "\n",
    "clf = MLPClassifier(solver='adam',hidden_layer_sizes=(3,3),alpha=1e-5, random_state=1,max_iter = 3000).fit(X_train,y_train)\n",
    "print('Option: adam - works pretty well on relatively large datasets')\n",
    "score = clf.score(X_train, y_train)\n",
    "print('score = ', score)\n"
   ]
  },
  {
   "cell_type": "markdown",
   "metadata": {},
   "source": [
    "## The prediction result for X_test[0] = 0 and the the actual reuslt y_test[0] = 0. For the probablities of each possible class, we can see that the first class(0) has highest probability which is 1.00 which means that the prediction is accurate.\n",
    "\n",
    "## For lbfgs, Score is 0.993. ---- Highest Score\n",
    "## For sgd, Score is 0.985.\n",
    "## For adam, Score is 0.977.\n"
   ]
  },
  {
   "cell_type": "markdown",
   "metadata": {
    "id": "_bi5tDwHmC28"
   },
   "source": [
    "# Part 6: K-Nearest Neighbors"
   ]
  },
  {
   "cell_type": "code",
   "execution_count": 1013,
   "metadata": {
    "colab": {
     "base_uri": "https://localhost:8080/"
    },
    "id": "qCFlfJy2mCg6",
    "outputId": "e71bf88c-6418-4b7f-e289-4acf743c16cc"
   },
   "outputs": [
    {
     "name": "stdout",
     "output_type": "stream",
     "text": [
      "X_test[0]: [4.6 3.4 1.4 0.3]\n",
      "y_test[0]: 0\n",
      "The predicted result for X_test[0]=  [0]\n",
      "\n",
      "For X_test[0], the probabilities for each possible class[0 1 2] are:\n",
      "[[1. 0. 0.]]\n",
      "\n",
      "score is 0.956 ,which means that the probability for our model to make correct prediction is 95.6%\n"
     ]
    }
   ],
   "source": [
    "# i. Use sklearn to 'train' a k-Neighbors Classifier\n",
    "# Note: KNN is a nonparametric model and technically doesn't require training\n",
    "# fit will essentially load the data into the model see link below for more information\n",
    "# https://stats.stackexchange.com/questions/349842/why-do-we-need-to-fit-a-k-nearest-neighbors-classifier\n",
    "clf = KNeighborsClassifier(n_neighbors=3)\n",
    "clf.fit(X_train, y_train)\n",
    "pred = clf.predict(X_test)\n",
    "\n",
    "# ii. For a sample datapoint, predict the probabilities for each possible class\n",
    "print('X_test[0]:', X_test[0])\n",
    "print('y_test[0]:', y_test[0])\n",
    "pred = clf.predict(np.array([X_test[0]]))\n",
    "print('The predicted result for X_test[0]= ',pred)\n",
    "print('\\nFor X_test[0], the probabilities for each possible class[0 1 2] are:')\n",
    "print(clf.predict_proba(X_test[:1, :]))\n",
    "\n",
    "# iii. Report on the score for kNN, what does the score measure?\n",
    "score = clf.score(X_train, y_train)\n",
    "print('\\nscore is %.3f'%score,',which means that the probability for our model to make correct prediction is %.1f'%(score*100)+'%') "
   ]
  },
  {
   "cell_type": "markdown",
   "metadata": {},
   "source": [
    "## Score is 0.963 ,which means that the probability for our model to make correct prediction is 96.3%"
   ]
  },
  {
   "cell_type": "markdown",
   "metadata": {
    "id": "162Sw3LeoqE2"
   },
   "source": [
    "# Part 7: Conclusions and takeaways\n",
    "\n",
    "In your own words describe the results of the notebook. Which model(s) performed the best on the dataset? Why do you think that is? Did anything surprise you about the exercise?\n",
    "\n",
    "## According to performance of my models, it appears that Neural Network models using 'lbfgs' and Support Vector Machine using linear kernal makes the most accurate predictions on iris dataset. It looks right because Neural network models are good at classifying when we have a labeled dataset like iris and SVM is good for finding an optimal boundary between outputs.  While K-NN is sensitive to noisy data and outliears and so does logistic regression. Hence we might need to modify the data before traning in order to get accurate traning results for K-NN and Logistic regression.   "
   ]
  }
 ],
 "metadata": {
  "colab": {
   "collapsed_sections": [],
   "name": "Untitled1.ipynb",
   "provenance": []
  },
  "interpreter": {
   "hash": "60f5decb5d5f75cee078769f31acc91db8399f71b0160f2efe6eadfe23786558"
  },
  "kernelspec": {
   "display_name": "Python 3.9.2 64-bit",
   "name": "python3"
  },
  "language_info": {
   "codemirror_mode": {
    "name": "ipython",
    "version": 3
   },
   "file_extension": ".py",
   "mimetype": "text/x-python",
   "name": "python",
   "nbconvert_exporter": "python",
   "pygments_lexer": "ipython3",
   "version": "3.9.2"
  }
 },
 "nbformat": 4,
 "nbformat_minor": 1
}
