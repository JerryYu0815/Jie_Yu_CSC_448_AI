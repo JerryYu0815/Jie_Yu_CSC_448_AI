{
 "cells": [
  {
   "cell_type": "markdown",
   "metadata": {},
   "source": [
    "<a href=\"https://colab.research.google.com/github/profmcnich/example_notebook/blob/main/a3_sample_notebook.ipynb\" target=\"_parent\"><img src=\"https://colab.research.google.com/assets/colab-badge.svg\" alt=\"Open In Colab\"/></a>\n",
    "\n",
    "\\(\\^Be sure to update this button to point to your notebook instead of the sample notebook\\)"
   ]
  },
  {
   "cell_type": "code",
   "execution_count": 348,
   "metadata": {},
   "outputs": [],
   "source": [
    "# Imports section\n",
    "import numpy as np\n",
    "import pandas as pd\n",
    "import matplotlib.pyplot as plt\n",
    "from sklearn.model_selection import train_test_split\n",
    "from sklearn.model_selection import cross_val_score\n",
    "from sklearn import linear_model\n",
    "from sklearn.preprocessing import PolynomialFeatures"
   ]
  },
  {
   "cell_type": "markdown",
   "metadata": {},
   "source": [
    "## Part 1. Loading the dataset"
   ]
  },
  {
   "cell_type": "code",
   "execution_count": 349,
   "metadata": {},
   "outputs": [
    {
     "name": "stdout",
     "output_type": "stream",
     "text": [
      "First 15 rows of the data:\n",
      "     Temperature °C  Mols KCL     Size nm^3\n",
      "0              469       647  6.244743e+05\n",
      "1              403       694  5.779610e+05\n",
      "2              302       975  6.196847e+05\n",
      "3              779       916  1.460449e+06\n",
      "4              901        18  4.325726e+04\n",
      "5              545       637  7.124634e+05\n",
      "6              660       519  7.006960e+05\n",
      "7              143       869  2.718260e+05\n",
      "8               89       461  8.919803e+04\n",
      "9              294       776  4.770210e+05\n",
      "10             991       117  2.441771e+05\n",
      "11             307       781  5.006455e+05\n",
      "12             206        70  3.145200e+04\n",
      "13             437       599  5.390215e+05\n",
      "14             566        75  9.185271e+04\n",
      "\n",
      "Table information:\n"
     ]
    },
    {
     "data": {
      "text/plain": [
       "Temperature °C      int64\n",
       "Mols KCL            int64\n",
       "Size nm^3         float64\n",
       "dtype: object"
      ]
     },
     "execution_count": 349,
     "metadata": {},
     "output_type": "execute_result"
    }
   ],
   "source": [
    "# Using pandas load the dataset (load remotely, not locally)\n",
    "df = pd.read_csv(\"https://raw.githubusercontent.com/profmcnich/example_notebook/main/science_data_large.csv\")\n",
    "df.head()\n",
    "\n",
    "# Output the first 15 rows of the data\n",
    "print(\"First 15 rows of the data:\\n\",df.iloc[0:15])\n",
    "\n",
    "# Display a summary of the table information (number of datapoints, etc.)\n",
    "print(\"\\nTable information:\")\n",
    "\n",
    "#df['Size nm^3']= df['Size nm^3'].round(5).astype('int')\n",
    "df.dtypes"
   ]
  },
  {
   "cell_type": "markdown",
   "metadata": {},
   "source": [
    "## Part 2. Splitting the dataset"
   ]
  },
  {
   "cell_type": "code",
   "execution_count": 350,
   "metadata": {},
   "outputs": [
    {
     "data": {
      "text/html": [
       "<div>\n",
       "<style scoped>\n",
       "    .dataframe tbody tr th:only-of-type {\n",
       "        vertical-align: middle;\n",
       "    }\n",
       "\n",
       "    .dataframe tbody tr th {\n",
       "        vertical-align: top;\n",
       "    }\n",
       "\n",
       "    .dataframe thead th {\n",
       "        text-align: right;\n",
       "    }\n",
       "</style>\n",
       "<table border=\"1\" class=\"dataframe\">\n",
       "  <thead>\n",
       "    <tr style=\"text-align: right;\">\n",
       "      <th></th>\n",
       "      <th>Temperature °C</th>\n",
       "      <th>Mols KCL</th>\n",
       "    </tr>\n",
       "  </thead>\n",
       "  <tbody>\n",
       "    <tr>\n",
       "      <th>0</th>\n",
       "      <td>469</td>\n",
       "      <td>647</td>\n",
       "    </tr>\n",
       "    <tr>\n",
       "      <th>1</th>\n",
       "      <td>403</td>\n",
       "      <td>694</td>\n",
       "    </tr>\n",
       "    <tr>\n",
       "      <th>2</th>\n",
       "      <td>302</td>\n",
       "      <td>975</td>\n",
       "    </tr>\n",
       "    <tr>\n",
       "      <th>3</th>\n",
       "      <td>779</td>\n",
       "      <td>916</td>\n",
       "    </tr>\n",
       "    <tr>\n",
       "      <th>4</th>\n",
       "      <td>901</td>\n",
       "      <td>18</td>\n",
       "    </tr>\n",
       "  </tbody>\n",
       "</table>\n",
       "</div>"
      ],
      "text/plain": [
       "   Temperature °C  Mols KCL\n",
       "0             469       647\n",
       "1             403       694\n",
       "2             302       975\n",
       "3             779       916\n",
       "4             901        18"
      ]
     },
     "execution_count": 350,
     "metadata": {},
     "output_type": "execute_result"
    }
   ],
   "source": [
    "# Take the pandas dataset and split it into our features (X) and label (y)\n",
    "X = df[[\"Temperature °C\",\"Mols KCL\"]]  #input are temperatures and mols KCL\n",
    "X.head()"
   ]
  },
  {
   "cell_type": "code",
   "execution_count": 351,
   "metadata": {},
   "outputs": [
    {
     "data": {
      "text/html": [
       "<div>\n",
       "<style scoped>\n",
       "    .dataframe tbody tr th:only-of-type {\n",
       "        vertical-align: middle;\n",
       "    }\n",
       "\n",
       "    .dataframe tbody tr th {\n",
       "        vertical-align: top;\n",
       "    }\n",
       "\n",
       "    .dataframe thead th {\n",
       "        text-align: right;\n",
       "    }\n",
       "</style>\n",
       "<table border=\"1\" class=\"dataframe\">\n",
       "  <thead>\n",
       "    <tr style=\"text-align: right;\">\n",
       "      <th></th>\n",
       "      <th>Size nm^3</th>\n",
       "    </tr>\n",
       "  </thead>\n",
       "  <tbody>\n",
       "    <tr>\n",
       "      <th>0</th>\n",
       "      <td>6.244743e+05</td>\n",
       "    </tr>\n",
       "    <tr>\n",
       "      <th>1</th>\n",
       "      <td>5.779610e+05</td>\n",
       "    </tr>\n",
       "    <tr>\n",
       "      <th>2</th>\n",
       "      <td>6.196847e+05</td>\n",
       "    </tr>\n",
       "    <tr>\n",
       "      <th>3</th>\n",
       "      <td>1.460449e+06</td>\n",
       "    </tr>\n",
       "    <tr>\n",
       "      <th>4</th>\n",
       "      <td>4.325726e+04</td>\n",
       "    </tr>\n",
       "  </tbody>\n",
       "</table>\n",
       "</div>"
      ],
      "text/plain": [
       "      Size nm^3\n",
       "0  6.244743e+05\n",
       "1  5.779610e+05\n",
       "2  6.196847e+05\n",
       "3  1.460449e+06\n",
       "4  4.325726e+04"
      ]
     },
     "execution_count": 351,
     "metadata": {},
     "output_type": "execute_result"
    }
   ],
   "source": [
    "y = df[[\"Size nm^3\"]]\n",
    "y.head()"
   ]
  },
  {
   "cell_type": "code",
   "execution_count": 352,
   "metadata": {},
   "outputs": [
    {
     "name": "stdout",
     "output_type": "stream",
     "text": [
      "X_test:\n",
      " [[311 265]\n",
      " [951 145]\n",
      " [985 786]\n",
      " [ 66 317]\n",
      " [ 59 277]\n",
      " [286 535]\n",
      " [230 665]\n",
      " [876 601]\n",
      " [ 69 347]\n",
      " [140 329]\n",
      " [480 819]\n",
      " [917 836]\n",
      " [798 609]\n",
      " [157 145]\n",
      " [156 451]\n",
      " [965 721]\n",
      " [310 793]\n",
      " [861 216]\n",
      " [566  75]\n",
      " [663 295]\n",
      " [950 993]\n",
      " [226 120]\n",
      " [978 111]\n",
      " [940 984]\n",
      " [390 511]\n",
      " [895 784]\n",
      " [ 75 379]\n",
      " [640 255]\n",
      " [627 279]\n",
      " [403 694]\n",
      " [410 511]\n",
      " [ 98 521]\n",
      " [979 987]\n",
      " [629 562]\n",
      " [936 986]\n",
      " [447 721]\n",
      " [674 756]\n",
      " [824 800]\n",
      " [878 894]\n",
      " [677   5]\n",
      " [ 79 401]\n",
      " [327 982]\n",
      " [ 82 421]\n",
      " [356 497]\n",
      " [341 375]\n",
      " [732 156]\n",
      " [612 109]\n",
      " [423 820]\n",
      " [506  75]\n",
      " [996  52]\n",
      " [758 647]\n",
      " [ 45 197]\n",
      " [655 886]\n",
      " [585 649]\n",
      " [869  72]\n",
      " [862 491]\n",
      " [716 945]\n",
      " [665 245]\n",
      " [276 720]\n",
      " [990 737]\n",
      " [982 690]\n",
      " [192  29]\n",
      " [136  89]\n",
      " [476 866]\n",
      " [ 33 137]\n",
      " [717 887]\n",
      " [483 108]\n",
      " [579 758]\n",
      " [196 722]\n",
      " [ 30 113]\n",
      " [105 768]\n",
      " [961 206]\n",
      " [799 665]\n",
      " [832 195]\n",
      " [544  70]\n",
      " [623 732]\n",
      " [595 518]\n",
      " [838 676]\n",
      " [844 207]\n",
      " [102 710]\n",
      " [654 925]\n",
      " [786 471]\n",
      " [641 284]\n",
      " [347 274]\n",
      " [187 575]\n",
      " [ 55 257]\n",
      " [766 485]\n",
      " [881 439]\n",
      " [801 473]\n",
      " [526  25]\n",
      " [112 374]\n",
      " [787  46]\n",
      " [381 493]\n",
      " [ 74 373]\n",
      " [468 259]\n",
      " [994 881]\n",
      " [249 927]\n",
      " [293 466]\n",
      " [217 682]\n",
      " [399 823]]\n",
      "\n",
      "y_test:\n",
      " [[ 170568.4286  ]\n",
      " [ 287802.7143  ]\n",
      " [1577891.314   ]\n",
      " [  45507.11429 ]\n",
      " [  35586.25714 ]\n",
      " [ 317629.8571  ]\n",
      " [ 321295.      ]\n",
      " [1073784.029   ]\n",
      " [  52154.25714 ]\n",
      " [  96892.6     ]\n",
      " [ 811164.6     ]\n",
      " [1564196.457   ]\n",
      " [ 992136.6     ]\n",
      " [  48014.71429 ]\n",
      " [ 148395.4571  ]\n",
      " [1417962.6     ]\n",
      " [ 513347.1143  ]\n",
      " [ 383617.0286  ]\n",
      " [  91852.71429 ]\n",
      " [ 401612.4286  ]\n",
      " [1926272.829   ]\n",
      " [  57363.42857 ]\n",
      " [ 229204.0286  ]\n",
      " [1888864.457   ]\n",
      " [ 410720.6     ]\n",
      " [1431661.6     ]\n",
      " [  61854.02857 ]\n",
      " [ 335937.8571  ]\n",
      " [ 359614.0286  ]\n",
      " [ 577961.0286  ]\n",
      " [ 431400.6     ]\n",
      " [ 111047.4571  ]\n",
      " [1972127.4     ]\n",
      " [ 723568.1143  ]\n",
      " [1884801.029   ]\n",
      " [ 664790.6     ]\n",
      " [1043505.6     ]\n",
      " [1346573.714   ]\n",
      " [1603235.314   ]\n",
      " [  14894.71429 ]\n",
      " [  68900.31429 ]\n",
      " [ 673704.1143  ]\n",
      " [  75092.02857 ]\n",
      " [ 365193.4     ]\n",
      " [ 263859.8571  ]\n",
      " [ 237863.3143  ]\n",
      " [ 141099.4571  ]\n",
      " [ 718007.4286  ]\n",
      " [  82132.71429 ]\n",
      " [ 115613.2571  ]\n",
      " [1001908.257   ]\n",
      " [  19378.82857 ]\n",
      " [1190948.457   ]\n",
      " [ 778384.3143  ]\n",
      " [ 135712.1143  ]\n",
      " [ 863716.0286  ]\n",
      " [1387347.      ]\n",
      " [ 335545.      ]\n",
      " [ 415563.4286  ]\n",
      " [1486659.114   ]\n",
      " [1380546.857   ]\n",
      " [  13464.02857 ]\n",
      " [  26066.31429 ]\n",
      " [ 851571.3143  ]\n",
      " [   9974.257143]\n",
      " [1303041.114   ]\n",
      " [ 110457.2571  ]\n",
      " [ 901128.1143  ]\n",
      " [ 300269.8286  ]\n",
      " [   7504.828571]\n",
      " [ 179392.1143  ]\n",
      " [ 408676.4571  ]\n",
      " [1084893.      ]\n",
      " [ 335550.4286  ]\n",
      " [  82828.      ]\n",
      " [ 934857.2571  ]\n",
      " [ 631226.4     ]\n",
      " [1156088.457   ]\n",
      " [ 360768.2571  ]\n",
      " [ 160466.8571  ]\n",
      " [1242194.429   ]\n",
      " [ 756182.3143  ]\n",
      " [ 374084.4571  ]\n",
      " [ 196465.0286  ]\n",
      " [ 226740.4286  ]\n",
      " [  30817.11429 ]\n",
      " [ 758932.7143  ]\n",
      " [ 789596.3143  ]\n",
      " [ 773750.2571  ]\n",
      " [  32629.85714 ]\n",
      " [  89116.45714 ]\n",
      " [  81908.45714 ]\n",
      " [ 387182.2571  ]\n",
      " [  60067.11429 ]\n",
      " [ 249956.6     ]\n",
      " [1785532.029   ]\n",
      " [ 489186.2571  ]\n",
      " [ 282796.4571  ]\n",
      " [ 311881.2571  ]\n",
      " [ 680894.2571  ]]\n"
     ]
    }
   ],
   "source": [
    "# Use sklearn to split the features and labels into a training/test set. (90% train, 10% test)\n",
    "\n",
    "X_train, X_test, y_train, y_test = train_test_split(X.values, y.values, test_size=0.1, random_state=0)\n",
    "print('X_test:\\n',X_test)\n",
    "\n",
    "print('\\ny_test:\\n',y_test)\n"
   ]
  },
  {
   "cell_type": "markdown",
   "metadata": {},
   "source": [
    "## Part 3. Perform a Linear Regression"
   ]
  },
  {
   "cell_type": "code",
   "execution_count": 353,
   "metadata": {},
   "outputs": [
    {
     "name": "stdout",
     "output_type": "stream",
     "text": [
      "The prediction result for X_test[0]=  [[134891.57109752]]\n",
      "The actual reuslt y_test[0]=  [170568.4286]\n",
      "score =  0.8571870071495865\n",
      "coef =  [[ 863.58108791 1006.12741921]]\n",
      "intercept=  [-400305.91333353]\n"
     ]
    }
   ],
   "source": [
    "# Use sklearn to train a model on the training set\n",
    "regr = linear_model.LinearRegression()\n",
    "regr.fit(X_train, y_train)\n",
    "\n",
    "# Create a sample datapoint and predict the output of that sample with the trained model\n",
    "pred = regr.predict(np.array([X_test[0]]))\n",
    "\n",
    "print(\"The prediction result for X_test[0]= \",pred)\n",
    "print(\"The actual reuslt y_test[0]= \",y_test[0])\n",
    "# Report on the score for that model, in your own words (markdown, not code) explain what the score means\n",
    "score = regr.score(X_train, y_train)\n",
    "print('score = ', score) \n",
    "\n",
    "# Extract the coefficents and intercept from the model and write an equation for your h(x) using LaTeX\n",
    "coef = regr.coef_\n",
    "intercept = regr.intercept_\n",
    "print('coef = ', coef)\n",
    "print('intercept= ', intercept)"
   ]
  },
  {
   "cell_type": "markdown",
   "metadata": {},
   "source": [
    "## The prediction result for X_test[0] = 134891.57109751 and the The actual reuslt y_test[0] = 170568.4286, which means that the prediction is not accurate.\n",
    "\n",
    "## The score gotten in part 3 foris 0.85719 which is not so good. A scroe of 1 means that it is a perfect fit and the model is reliable while a score of 0 means that the calculation failed in modeling the data.\n",
    "\n",
    "## Equation: $ y = 863.58109x_1 + 1006.12742x_2 - 400305.91333 $\n",
    "\n"
   ]
  },
  {
   "cell_type": "markdown",
   "metadata": {},
   "source": [
    "## Part 4. Use Cross Validation"
   ]
  },
  {
   "cell_type": "code",
   "execution_count": 354,
   "metadata": {},
   "outputs": [
    {
     "name": "stdout",
     "output_type": "stream",
     "text": [
      "mean =  0.8088156665899868\n",
      "standar deviation =  0.14982832048114586\n",
      "scores from 100 shuffles of the data\n",
      " [0.72987142 0.02332136 0.64663948 0.83710031 0.81287812 0.85643292\n",
      " 0.86566207 0.82943342 0.85717261 0.85818757 0.88407446 0.21899099\n",
      " 0.79353519 0.93228937 0.74819809 0.91932985 0.85291091 0.72308356\n",
      " 0.64174485 0.89081781 0.70643469 0.86544004 0.8450951  0.70336182\n",
      " 0.86728463 0.91760202 0.90908958 0.94150897 0.83819493 0.87273024\n",
      " 0.7871197  0.88467529 0.86671862 0.8176053  0.86637483 0.9025546\n",
      " 0.85450024 0.88911985 0.81337559 0.62209156 0.88511368 0.87383856\n",
      " 0.93874597 0.87945152 0.86422446 0.85185362 0.80632506 0.85400314\n",
      " 0.90590826 0.85225702 0.65832    0.87102599 0.71313585 0.89400345\n",
      " 0.58732207 0.87049636 0.88042279 0.88289086 0.34984312 0.86334775\n",
      " 0.89350964 0.884054   0.83945642 0.91647922 0.84972854 0.88619777\n",
      " 0.85252309 0.87032873 0.77491956 0.91480937 0.6467444  0.957948\n",
      " 0.85213029 0.67112896 0.88361835 0.83713072 0.87391655 0.67181693\n",
      " 0.83559998 0.92893673 0.88096535 0.74106931 0.60975577 0.42168108\n",
      " 0.84981447 0.73046608 0.38714045 0.86307705 0.92088635 0.83550424\n",
      " 0.80872126 0.86870326 0.96623662 0.89623051 0.81473862 0.94508344\n",
      " 0.92603804 0.87346492 0.88535082 0.84058024]\n"
     ]
    }
   ],
   "source": [
    "# Use the cross_val_score function to repeat your experiment across many shuffles of the data\n",
    "scores = cross_val_score(regr,X,y,cv = 100)\n",
    "print(\"mean = \", (scores.mean()))\n",
    "print(\"standar deviation = \", (scores.std()))\n",
    "print(\"scores from 100 shuffles of the data\\n\",scores)\n"
   ]
  },
  {
   "cell_type": "markdown",
   "metadata": {},
   "source": [
    "## Part 5. Using Polynomial Regression"
   ]
  },
  {
   "cell_type": "code",
   "execution_count": 355,
   "metadata": {},
   "outputs": [
    {
     "name": "stdout",
     "output_type": "stream",
     "text": [
      "The score is:  1.0\n",
      "The coef is :  [[ 0.00000000e+00  1.20000000e+01 -1.10385822e-07 -1.20952137e-11\n",
      "   2.00000000e+00  2.85714287e-02]]\n",
      "The intercept is :  [1.39031908e-05]\n",
      "The first row of values in X_test =  [1.0000e+00 3.1100e+02 2.6500e+02 9.6721e+04 8.2415e+04 7.0225e+04]\n",
      "The first row of values in y_test =  [170568.4286]\n",
      "Predit the result for X_test[0]:  [[170568.42856638]]\n"
     ]
    }
   ],
   "source": [
    "# Using the PolynomialFeatures library perform another regression on an augmented dataset of degree 2\n",
    "poly = PolynomialFeatures(2)\n",
    "X_train = poly.fit_transform(X_train)\n",
    "X_test = poly.fit_transform(X_test)\n",
    "y_test = np.array(y_test)\n",
    "\n",
    "model = linear_model.LinearRegression()\n",
    "model.fit(X_train,y_train)\n",
    "print(\"The score is: \",model.score(X_train,y_train))\n",
    "print(\"The coef is : \",model.coef_)\n",
    "print(\"The intercept is : \",model.intercept_)\n",
    "print(\"The first row of values in X_test = \",X_test[0])\n",
    "print(\"The first row of values in y_test = \",y_test[0])\n",
    "print(\"Predit the result for X_test[0]: \", model.predict([X_test[0]]))\n",
    "\n",
    "\n",
    "\n",
    "# Report on the metrics and output the resultant equation as you did in Part 3."
   ]
  },
  {
   "cell_type": "markdown",
   "metadata": {},
   "source": [
    "## The prediction result for X_test[0] = 170568.42856638 and the The actual reuslt y_test[0] = 170568.4286, which means that the prediction is very accurate.\n",
    "\n",
    "## The score gotten in part 5 foris 1.0 which mean that is a perfect fit model.\n",
    "\n",
    "## Equation: $ y = 0 + 12x_1 - 0*x_2 + 0*x_1^2+2x_1x_2+0.02857x_2^2 = 12x_1+2x_1x_2+0.02857x_2^2$"
   ]
  },
  {
   "cell_type": "markdown",
   "metadata": {},
   "source": [
    "## Test equation for the polynomial regression model"
   ]
  },
  {
   "cell_type": "code",
   "execution_count": 356,
   "metadata": {},
   "outputs": [
    {
     "name": "stdout",
     "output_type": "stream",
     "text": [
      "Expected: y = 170568.4286\n",
      "Equation: y =  170568.32825\n"
     ]
    }
   ],
   "source": [
    "x1 = 311\n",
    "x2 = 265\n",
    "y = 12*x1 + 2*x1*x2+0.02857*(x2 ** 2)\n",
    "print(\"Expected: y = 170568.4286\")\n",
    "print(\"Equation: y = \", y)\n"
   ]
  },
  {
   "cell_type": "markdown",
   "metadata": {},
   "source": [
    "## The equation is correct for our polynomial regression models."
   ]
  }
 ],
 "metadata": {
  "interpreter": {
   "hash": "60f5decb5d5f75cee078769f31acc91db8399f71b0160f2efe6eadfe23786558"
  },
  "kernelspec": {
   "display_name": "Python 3.9.2 64-bit",
   "name": "python3"
  },
  "language_info": {
   "codemirror_mode": {
    "name": "ipython",
    "version": 3
   },
   "file_extension": ".py",
   "mimetype": "text/x-python",
   "name": "python",
   "nbconvert_exporter": "python",
   "pygments_lexer": "ipython3",
   "version": "3.9.2"
  }
 },
 "nbformat": 4,
 "nbformat_minor": 4
}
