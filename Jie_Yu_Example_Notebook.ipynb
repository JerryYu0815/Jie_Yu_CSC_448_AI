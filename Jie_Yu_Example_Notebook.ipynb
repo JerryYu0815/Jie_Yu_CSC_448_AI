{
 "cells": [
  {
   "cell_type": "markdown",
   "source": [
    "# Welcome to Jie's AI Jupyte Notebook  <a href=\"https://colab.research.google.com/github/profmcnich/example_notebook/blob/main/student_survey_analysis.ipynb\\\" target=\"_parent\\\"> <img src=\"https://colab.research.google.com/assets/colab-badge.svg\\\" alt=\"Open In Colab\\\"/></a>"
   ],
   "metadata": {}
  },
  {
   "cell_type": "markdown",
   "source": [
    "# Below is a part of the program for Stochastical Forest Fire Model Using Cellular Automaton\r\n",
    "## It is a simulation of how fire will spread in a forest containing two tree species Pine and Ork under wind factor. The forest is a 100*100 grid and filled with  Pines and Orks of different densities.\r\n",
    "## The program starts with randomly igniting a tree site and ends when the forest is burned out or there is no burning trees."
   ],
   "metadata": {}
  },
  {
   "cell_type": "code",
   "execution_count": 4,
   "source": [
    "import numpy as np\r\n",
    "import matplotlib.pyplot as plt\r\n",
    "import random\r\n",
    "import math\r\n",
    "from matplotlib import animation\r\n",
    "from matplotlib import colors\r\n",
    "\r\n",
    "\r\n",
    "# Grid size\r\n",
    "M = N = 100\r\n",
    "# Density of the forest\r\n",
    "d = 0.7\r\n",
    "# Density of Pine\r\n",
    "d_pine = 0.7\r\n",
    "# Wetness of trees\r\n",
    "wetness = 1.0\r\n",
    "\r\n",
    "probCatch_Pine = 1.0/wetness\r\n",
    "probCatch_Oak = 0.5/wetness\r\n",
    "p_w = 0.3 \r\n",
    "# Empty = 0, Pine = 1, Ork = 2, Fire = 3, Burned = 4\r\n",
    "\r\n",
    "# specify M,N,d where d is the density of the forest\r\n",
    "grid = np.zeros([M,N])\r\n",
    "\r\n",
    "# create lists for empty sites and trees\r\n",
    "Empty =[]\r\n",
    "Pine = []\r\n",
    "Oak =[]\r\n",
    "Burn=[]\r\n",
    "# fill the list of empty sites with all cells\r\n",
    "for n in range(N):\r\n",
    "    for m in range(M):\r\n",
    "        Empty.append((m,n))\r\n",
    "\r\n",
    "# keep track of the number of empty sites, trees, and fires\r\n",
    "nEmpty = M*N\r\n",
    "nPine = 0\r\n",
    "nOak = 0\r\n",
    "nBurn = 0\r\n",
    "\r\n",
    "# put trees at random locations\r\n",
    "for i in range(math.floor(d*M*N)):\r\n",
    "    j = random.randrange(nEmpty)\r\n",
    "    rand_pine = random.uniform(0.0,1)\r\n",
    "    if rand_pine <= d_pine:\r\n",
    "        Pine.append(Empty.pop(j))\r\n",
    "        nEmpty -= 1\r\n",
    "        nPine += 1\r\n",
    "    else: \r\n",
    "        Oak.append(Empty.pop(j))\r\n",
    "        nEmpty -= 1\r\n",
    "        nOak += 1\r\n",
    "\r\n",
    "\r\n",
    "# populate the intial grid\r\n",
    "for i in range(nPine):\r\n",
    "    mn = Pine[i]\r\n",
    "    grid[mn[0],mn[1]] = 1\r\n",
    "\r\n",
    "for i in range(nOak):\r\n",
    "    mn = Oak[i]\r\n",
    "    grid[mn[0],mn[1]] = 2\r\n",
    "\r\n",
    "\r\n",
    "\r\n",
    "# pick a random tree and set it on fire\r\n",
    "if nPine >= 0 and nOak >= 0:\r\n",
    "    p = np.random.random()\r\n",
    "    if p <= d_pine:\r\n",
    "        j = random.randrange(nPine)\r\n",
    "        mn = Pine[j]\r\n",
    "        grid[mn[0],mn[1]] = 3\r\n",
    "        Burn.append(Pine.pop(j))\r\n",
    "        nPine -= 1\r\n",
    "        nBurn = 1\r\n",
    "    else:    \r\n",
    "        j = random.randrange(nOak)\r\n",
    "        mn = Oak[j]\r\n",
    "        grid[mn[0],mn[1]] = 3\r\n",
    "        Burn.append(Oak.pop(j))\r\n",
    "        nOak -= 1\r\n",
    "        nBurn = 1\r\n",
    "\r\n",
    "\r\n",
    "# Moore Neighbourhoods\r\n",
    "neighbours = ((-1,-1), (-1,0), (-1,1), (0,-1), (0, 1), (1,-1), (1,0), (1,1))\r\n",
    "\r\n",
    "\r\n",
    "# Update the forest based on fire spreading rules\r\n",
    "def update(grid):\r\n",
    "    new_grid = np.zeros([M,N])\r\n",
    "    p = 0\r\n",
    "    for x in range(M):\r\n",
    "        for y in range(N):\r\n",
    "            state = grid[y,x]\r\n",
    "            if state == 3:\r\n",
    "                state = 4\r\n",
    "            # Pine cell\r\n",
    "            elif state == 1:\r\n",
    "                for dx,dy in neighbours:\r\n",
    "                    if y+dy<0 or y+dy>99 or x+dx<0 or x+dx>99:\r\n",
    "                       pass\r\n",
    "                    else:\r\n",
    "                        # Consider that the neighbours at wind direction has higher probability of catching fire \r\n",
    "                        if dx == 1:\r\n",
    "                            p = probCatch_Pine\r\n",
    "                        # Probability for a Pine to catch fire\r\n",
    "                        if grid[y+dy,x+dx] == 3 and np.random.random() < p:\r\n",
    "                            state = 3\r\n",
    "                            break\r\n",
    "            # Oak cell\r\n",
    "            elif state == 2:\r\n",
    "                 p = probCatch_Oak\r\n",
    "                 for dx,dy in neighbours:\r\n",
    "                    if y+dy<0 or y+dy>99 or x+dx<0 or x+dx>99:\r\n",
    "                       pass\r\n",
    "                    else:\r\n",
    "                        # Consider that the neighbours at wind direction has higher probability of catching fire \r\n",
    "                        if dx == 1:\r\n",
    "                            p = probCatch_Oak+(1.0-probCatch_Oak)*p_w                       \r\n",
    "                        # Probability for a Oak to catch fire\r\n",
    "                        if grid[y+dy,x+dx] == 3 and np.random.random() < p:\r\n",
    "                            state = 3\r\n",
    "                            break\r\n",
    "            new_grid[y,x] = state\r\n",
    "            \r\n",
    "    grid = new_grid\r\n",
    "    return new_grid\r\n",
    "\r\n",
    "\r\n",
    "# Set up the animation\r\n",
    "# Empty=0 - white, Pine=1 - green, Oak=2 - darkgreen, fire=3 - red, burned=4 - grey\r\n",
    "colors_list = ['white', 'green', (0,0.3,0), (1,0,0),(1,0,0),'grey']\r\n",
    "cmap = colors.ListedColormap(colors_list)\r\n",
    "bounds = [0,1,2,3,4,5]\r\n",
    "norm = colors.BoundaryNorm(bounds, cmap.N)\r\n",
    "\r\n",
    "# Plot the grid\r\n",
    "fig = plt.figure(figsize=(8.5, 6.25))\r\n",
    "ax = fig.add_subplot(111)\r\n",
    "ax.set_axis_off()\r\n",
    "im = ax.imshow(grid, cmap=cmap, norm=norm)\r\n",
    "\r\n",
    "# Animate the updating grid\r\n",
    "def animate(i):\r\n",
    "    im.set_data(animate.grid)\r\n",
    "    animate.grid = update(animate.grid)\r\n",
    "animate.grid = grid\r\n",
    "\r\n",
    "# FuncAnimation will call the animagte function for each frame; here we\r\n",
    "# animating over 200 frames, with an interval of 300 ms between frames.\r\n",
    "anim = animation.FuncAnimation(fig, animate, interval=300, frames=200)\r\n",
    "plt.show()\r\n",
    "anim.save(\"forest_fire.gif\")\r\n",
    "\r\n"
   ],
   "outputs": [
    {
     "output_type": "display_data",
     "data": {
      "image/png": "[encoded data removed]",
      "text/plain": [
       "<Figure size 612x450 with 1 Axes>"
      ]
     },
     "metadata": {
      "needs_background": "light"
     }
    },
    {
     "output_type": "stream",
     "name": "stderr",
     "text": [
      "MovieWriter ffmpeg unavailable; using Pillow instead.\n"
     ]
    }
   ],
   "metadata": {}
  },
  {
   "cell_type": "markdown",
   "source": [
    "## After running the above program, a gif file will be produced and saved under the file location where this .ipynb file located."
   ],
   "metadata": {}
  },
  {
   "cell_type": "markdown",
   "source": [
    "## Thank you for watching my note book."
   ],
   "metadata": {}
  },
  {
   "cell_type": "markdown",
   "source": [
    "<img src =\"https://i.imgflip.com/22bjx7.jpg\">"
   ],
   "metadata": {}
  }
 ],
 "metadata": {
  "orig_nbformat": 4,
  "language_info": {
   "name": "python",
   "version": "3.9.2",
   "mimetype": "text/x-python",
   "codemirror_mode": {
    "name": "ipython",
    "version": 3
   },
   "pygments_lexer": "ipython3",
   "nbconvert_exporter": "python",
   "file_extension": ".py"
  },
  "kernelspec": {
   "name": "python3",
   "display_name": "Python 3.9.2 64-bit"
  },
  "interpreter": {
   "hash": "60f5decb5d5f75cee078769f31acc91db8399f71b0160f2efe6eadfe23786558"
  }
 },
 "nbformat": 4,
 "nbformat_minor": 2
}